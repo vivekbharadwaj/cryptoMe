{
 "cells": [
  {
   "cell_type": "markdown",
   "metadata": {},
   "source": [
    "** What I want to do: ** Establish connection to bitcoin and altcoin exchanges and download price charts. Bonus points for downloading my order history as well"
   ]
  },
  {
   "cell_type": "markdown",
   "metadata": {},
   "source": [
    "## 01 Admin and imports"
   ]
  },
  {
   "cell_type": "code",
   "execution_count": 1,
   "metadata": {
    "collapsed": true
   },
   "outputs": [],
   "source": [
    "# the usual suspects...\n",
    "import os, sys\n",
    "from datetime import datetime\n",
    "import numpy as np\n",
    "import pandas as pd\n",
    "import itertools"
   ]
  },
  {
   "cell_type": "code",
   "execution_count": 2,
   "metadata": {},
   "outputs": [
    {
     "data": {
      "text/plain": [
       "'3.6.2 | packaged by conda-forge | (default, Jul 23 2017, 23:01:38) \\n[GCC 4.2.1 Compatible Apple LLVM 6.1.0 (clang-602.0.53)]'"
      ]
     },
     "execution_count": 2,
     "metadata": {},
     "output_type": "execute_result"
    }
   ],
   "source": [
    "sys.version"
   ]
  },
  {
   "cell_type": "code",
   "execution_count": 3,
   "metadata": {
    "collapsed": true
   },
   "outputs": [],
   "source": [
    "# this is for my bitcoin prices\n",
    "import quandl"
   ]
  },
  {
   "cell_type": "code",
   "execution_count": 4,
   "metadata": {},
   "outputs": [
    {
     "data": {
      "text/html": [
       "<script>requirejs.config({paths: { 'plotly': ['https://cdn.plot.ly/plotly-latest.min']},});if(!window.Plotly) {{require(['plotly'],function(plotly) {window.Plotly=plotly;});}}</script>"
      ],
      "text/vnd.plotly.v1+html": [
       "<script>requirejs.config({paths: { 'plotly': ['https://cdn.plot.ly/plotly-latest.min']},});if(!window.Plotly) {{require(['plotly'],function(plotly) {window.Plotly=plotly;});}}</script>"
      ]
     },
     "metadata": {},
     "output_type": "display_data"
    }
   ],
   "source": [
    "# visualisation libraries: I'll go ahead and use plotly (offline) for graphing because its d3 \n",
    "# and so I can track prices over time\n",
    "import matplotlib.pyplot as plt\n",
    "%matplotlib inline\n",
    "import scipy.stats as sct\n",
    "import seaborn as sns\n",
    "sns.set()\n",
    "sns.set(style=\"ticks\")\n",
    "sns.set_color_codes(\"muted\")\n",
    "\n",
    "import plotly.offline as py\n",
    "import plotly.graph_objs as go\n",
    "import plotly.figure_factory as ff\n",
    "py.init_notebook_mode(connected=True)\n",
    "pd.set_option('display.float_format', lambda x:'%.10f' %x)\n",
    "import glob"
   ]
  },
  {
   "cell_type": "code",
   "execution_count": 5,
   "metadata": {
    "collapsed": true
   },
   "outputs": [],
   "source": [
    "# we'll need this for plotting in nice colours. Trust me on this.\n",
    "COLOR_PALETTE = [    \n",
    "               \"#348ABD\",\n",
    "               \"#A60628\",\n",
    "               \"#7A68A6\",\n",
    "               \"#467821\",\n",
    "               \"#CF4457\",\n",
    "               \"#188487\",\n",
    "               \"#E24A33\"\n",
    "              ]"
   ]
  },
  {
   "cell_type": "markdown",
   "metadata": {},
   "source": [
    "## 02 Get bitcoin prices"
   ]
  },
  {
   "cell_type": "markdown",
   "metadata": {},
   "source": [
    "Quandl gives you a free [unlimited data API for bitcoin](https://blog.quandl.com/api-for-bitcoin-data). tl;dr: Bitcoin codes for different exchanges need to follow the format - \n",
    "BCHARTS/{MARKET}{CURRENCY}\n",
    "\n",
    "So, if I want to get AUD exchange rate on BTCMarket exchange (as mentioned on the website): http://www.quandl.com/api/v3/datasets/BCHARTS/BTCMARKETSAUD \n"
   ]
  },
  {
   "cell_type": "code",
   "execution_count": 6,
   "metadata": {
    "collapsed": true
   },
   "outputs": [],
   "source": [
    "# which currency are we playing in?\n",
    "fiat_currency_of_choice='AUD'"
   ]
  },
  {
   "cell_type": "code",
   "execution_count": 7,
   "metadata": {
    "collapsed": true
   },
   "outputs": [],
   "source": [
    "# do we need to get latest data?\n",
    "bool_i_prefer_to_work_offline=True\n",
    "# if either BTCMARKETSAUD*.csv doesnt exist or the date in file is lesser than today's date then you need to update\n",
    "# the -1 in the comparison step should take care of multiple files since I assume glob picks up files alphanumerically\n",
    "if len(glob.glob('BTCMARKETS'+fiat_currency_of_choice+'*'))>0:\n",
    "    if int(datetime.today().strftime('%Y%m%d')) >= int(glob.glob('BTCMARKETS'+fiat_currency_of_choice+'*')[-1].split('.')[0].split('_')[1]):\n",
    "        bool_i_prefer_to_work_offline = False\n",
    "    date_of_latest_available_data=glob.glob('BTCMARKETS'+fiat_currency_of_choice+'*')[-1].split('.')[0].split('_')[1]"
   ]
  },
  {
   "cell_type": "code",
   "execution_count": 8,
   "metadata": {
    "collapsed": true
   },
   "outputs": [],
   "source": [
    "# bool_i_prefer_to_work_offline=True "
   ]
  },
  {
   "cell_type": "code",
   "execution_count": 9,
   "metadata": {},
   "outputs": [
    {
     "name": "stdout",
     "output_type": "stream",
     "text": [
      "CPU times: user 365 ms, sys: 12.4 ms, total: 377 ms\n",
      "Wall time: 2.71 s\n"
     ]
    },
    {
     "data": {
      "text/plain": [
       "(1573, 7)"
      ]
     },
     "execution_count": 9,
     "metadata": {},
     "output_type": "execute_result"
    }
   ],
   "source": [
    "if bool_i_prefer_to_work_offline==False:\n",
    "    %time df_btc = quandl.get('BCHARTS/BTCMARKETS'+fiat_currency_of_choice, returns=\"pandas\")\n",
    "    df_btc.to_csv('BTCMARKETS'+fiat_currency_of_choice+'_'+datetime.today().strftime('%Y%m%d')+'.csv')\n",
    "else:\n",
    "    %time df_btc = pd.read_csv('BTCMARKETS'+fiat_currency_of_choice+'_'+date_of_latest_available_data+'.csv', parse_dates=['Date'])\n",
    "    df_btc.set_index('Date',inplace=True)\n",
    "df_btc.shape"
   ]
  },
  {
   "cell_type": "markdown",
   "metadata": {},
   "source": [
    "Haha that was quick! "
   ]
  },
  {
   "cell_type": "markdown",
   "metadata": {},
   "source": [
    "## 03 Explore pricing data"
   ]
  },
  {
   "cell_type": "code",
   "execution_count": 10,
   "metadata": {},
   "outputs": [
    {
     "data": {
      "text/html": [
       "<div>\n",
       "<style>\n",
       "    .dataframe thead tr:only-child th {\n",
       "        text-align: right;\n",
       "    }\n",
       "\n",
       "    .dataframe thead th {\n",
       "        text-align: left;\n",
       "    }\n",
       "\n",
       "    .dataframe tbody tr th {\n",
       "        vertical-align: top;\n",
       "    }\n",
       "</style>\n",
       "<table border=\"1\" class=\"dataframe\">\n",
       "  <thead>\n",
       "    <tr style=\"text-align: right;\">\n",
       "      <th></th>\n",
       "      <th>Open</th>\n",
       "      <th>High</th>\n",
       "      <th>Low</th>\n",
       "      <th>Close</th>\n",
       "      <th>Volume (BTC)</th>\n",
       "      <th>Volume (Currency)</th>\n",
       "      <th>Weighted Price</th>\n",
       "    </tr>\n",
       "  </thead>\n",
       "  <tbody>\n",
       "    <tr>\n",
       "      <th>count</th>\n",
       "      <td>1573.0000000000</td>\n",
       "      <td>1573.0000000000</td>\n",
       "      <td>1573.0000000000</td>\n",
       "      <td>1573.0000000000</td>\n",
       "      <td>1573.0000000000</td>\n",
       "      <td>1573.0000000000</td>\n",
       "      <td>1573.0000000000</td>\n",
       "    </tr>\n",
       "    <tr>\n",
       "      <th>mean</th>\n",
       "      <td>1519.3205219326</td>\n",
       "      <td>1575.3007380801</td>\n",
       "      <td>1457.5992075016</td>\n",
       "      <td>1533.8705821360</td>\n",
       "      <td>192.3602341678</td>\n",
       "      <td>653598.8773142508</td>\n",
       "      <td>1516.8297140611</td>\n",
       "    </tr>\n",
       "    <tr>\n",
       "      <th>std</th>\n",
       "      <td>2904.3489856779</td>\n",
       "      <td>3047.8763298760</td>\n",
       "      <td>2757.5613689688</td>\n",
       "      <td>2962.3538026188</td>\n",
       "      <td>213.2854782629</td>\n",
       "      <td>3150066.0754264137</td>\n",
       "      <td>2903.8532017537</td>\n",
       "    </tr>\n",
       "    <tr>\n",
       "      <th>min</th>\n",
       "      <td>0.0000000000</td>\n",
       "      <td>0.0000000000</td>\n",
       "      <td>0.0000000000</td>\n",
       "      <td>0.0000000000</td>\n",
       "      <td>0.0000000000</td>\n",
       "      <td>0.0000000000</td>\n",
       "      <td>0.0000000000</td>\n",
       "    </tr>\n",
       "    <tr>\n",
       "      <th>25%</th>\n",
       "      <td>406.0000000000</td>\n",
       "      <td>420.0000000000</td>\n",
       "      <td>392.0000000000</td>\n",
       "      <td>406.1100000000</td>\n",
       "      <td>41.4613459300</td>\n",
       "      <td>20862.9083888000</td>\n",
       "      <td>404.2968192440</td>\n",
       "    </tr>\n",
       "    <tr>\n",
       "      <th>50%</th>\n",
       "      <td>626.7500000000</td>\n",
       "      <td>641.0000000000</td>\n",
       "      <td>612.0000000000</td>\n",
       "      <td>627.5900000000</td>\n",
       "      <td>150.9884907400</td>\n",
       "      <td>83496.7643713000</td>\n",
       "      <td>625.4773285480</td>\n",
       "    </tr>\n",
       "    <tr>\n",
       "      <th>75%</th>\n",
       "      <td>1030.1300000000</td>\n",
       "      <td>1059.0000000000</td>\n",
       "      <td>1002.0900000000</td>\n",
       "      <td>1024.4300000000</td>\n",
       "      <td>275.2697902600</td>\n",
       "      <td>227126.9502920000</td>\n",
       "      <td>1023.4237816200</td>\n",
       "    </tr>\n",
       "    <tr>\n",
       "      <th>max</th>\n",
       "      <td>26802.0100000000</td>\n",
       "      <td>26999.0000000000</td>\n",
       "      <td>25845.0000000000</td>\n",
       "      <td>26802.6400000000</td>\n",
       "      <td>3065.0017915500</td>\n",
       "      <td>69615178.3135000020</td>\n",
       "      <td>26269.6086783000</td>\n",
       "    </tr>\n",
       "  </tbody>\n",
       "</table>\n",
       "</div>"
      ],
      "text/plain": [
       "                  Open             High              Low            Close  \\\n",
       "count  1573.0000000000  1573.0000000000  1573.0000000000  1573.0000000000   \n",
       "mean   1519.3205219326  1575.3007380801  1457.5992075016  1533.8705821360   \n",
       "std    2904.3489856779  3047.8763298760  2757.5613689688  2962.3538026188   \n",
       "min       0.0000000000     0.0000000000     0.0000000000     0.0000000000   \n",
       "25%     406.0000000000   420.0000000000   392.0000000000   406.1100000000   \n",
       "50%     626.7500000000   641.0000000000   612.0000000000   627.5900000000   \n",
       "75%    1030.1300000000  1059.0000000000  1002.0900000000  1024.4300000000   \n",
       "max   26802.0100000000 26999.0000000000 25845.0000000000 26802.6400000000   \n",
       "\n",
       "         Volume (BTC)   Volume (Currency)   Weighted Price  \n",
       "count 1573.0000000000     1573.0000000000  1573.0000000000  \n",
       "mean   192.3602341678   653598.8773142508  1516.8297140611  \n",
       "std    213.2854782629  3150066.0754264137  2903.8532017537  \n",
       "min      0.0000000000        0.0000000000     0.0000000000  \n",
       "25%     41.4613459300    20862.9083888000   404.2968192440  \n",
       "50%    150.9884907400    83496.7643713000   625.4773285480  \n",
       "75%    275.2697902600   227126.9502920000  1023.4237816200  \n",
       "max   3065.0017915500 69615178.3135000020 26269.6086783000  "
      ]
     },
     "execution_count": 10,
     "metadata": {},
     "output_type": "execute_result"
    }
   ],
   "source": [
    "df_btc.describe()"
   ]
  },
  {
   "cell_type": "code",
   "execution_count": 11,
   "metadata": {},
   "outputs": [
    {
     "data": {
      "text/html": [
       "<div>\n",
       "<style>\n",
       "    .dataframe thead tr:only-child th {\n",
       "        text-align: right;\n",
       "    }\n",
       "\n",
       "    .dataframe thead th {\n",
       "        text-align: left;\n",
       "    }\n",
       "\n",
       "    .dataframe tbody tr th {\n",
       "        vertical-align: top;\n",
       "    }\n",
       "</style>\n",
       "<table border=\"1\" class=\"dataframe\">\n",
       "  <thead>\n",
       "    <tr style=\"text-align: right;\">\n",
       "      <th></th>\n",
       "      <th>Open</th>\n",
       "      <th>High</th>\n",
       "      <th>Low</th>\n",
       "      <th>Close</th>\n",
       "      <th>Volume (BTC)</th>\n",
       "      <th>Volume (Currency)</th>\n",
       "      <th>Weighted Price</th>\n",
       "    </tr>\n",
       "    <tr>\n",
       "      <th>Date</th>\n",
       "      <th></th>\n",
       "      <th></th>\n",
       "      <th></th>\n",
       "      <th></th>\n",
       "      <th></th>\n",
       "      <th></th>\n",
       "      <th></th>\n",
       "    </tr>\n",
       "  </thead>\n",
       "  <tbody>\n",
       "    <tr>\n",
       "      <th>2013-08-30</th>\n",
       "      <td>125.0000000000</td>\n",
       "      <td>125.0000000000</td>\n",
       "      <td>125.0000000000</td>\n",
       "      <td>125.0000000000</td>\n",
       "      <td>0.0100000000</td>\n",
       "      <td>1.2500000000</td>\n",
       "      <td>125.0000000000</td>\n",
       "    </tr>\n",
       "    <tr>\n",
       "      <th>2013-08-31</th>\n",
       "      <td>0.0000000000</td>\n",
       "      <td>0.0000000000</td>\n",
       "      <td>0.0000000000</td>\n",
       "      <td>0.0000000000</td>\n",
       "      <td>0.0000000000</td>\n",
       "      <td>0.0000000000</td>\n",
       "      <td>0.0000000000</td>\n",
       "    </tr>\n",
       "    <tr>\n",
       "      <th>2013-09-01</th>\n",
       "      <td>0.0000000000</td>\n",
       "      <td>0.0000000000</td>\n",
       "      <td>0.0000000000</td>\n",
       "      <td>0.0000000000</td>\n",
       "      <td>0.0000000000</td>\n",
       "      <td>0.0000000000</td>\n",
       "      <td>0.0000000000</td>\n",
       "    </tr>\n",
       "    <tr>\n",
       "      <th>2013-09-02</th>\n",
       "      <td>0.0000000000</td>\n",
       "      <td>0.0000000000</td>\n",
       "      <td>0.0000000000</td>\n",
       "      <td>0.0000000000</td>\n",
       "      <td>0.0000000000</td>\n",
       "      <td>0.0000000000</td>\n",
       "      <td>0.0000000000</td>\n",
       "    </tr>\n",
       "    <tr>\n",
       "      <th>2013-09-03</th>\n",
       "      <td>0.0000000000</td>\n",
       "      <td>0.0000000000</td>\n",
       "      <td>0.0000000000</td>\n",
       "      <td>0.0000000000</td>\n",
       "      <td>0.0000000000</td>\n",
       "      <td>0.0000000000</td>\n",
       "      <td>0.0000000000</td>\n",
       "    </tr>\n",
       "  </tbody>\n",
       "</table>\n",
       "</div>"
      ],
      "text/plain": [
       "                     Open           High            Low          Close  \\\n",
       "Date                                                                     \n",
       "2013-08-30 125.0000000000 125.0000000000 125.0000000000 125.0000000000   \n",
       "2013-08-31   0.0000000000   0.0000000000   0.0000000000   0.0000000000   \n",
       "2013-09-01   0.0000000000   0.0000000000   0.0000000000   0.0000000000   \n",
       "2013-09-02   0.0000000000   0.0000000000   0.0000000000   0.0000000000   \n",
       "2013-09-03   0.0000000000   0.0000000000   0.0000000000   0.0000000000   \n",
       "\n",
       "            Volume (BTC)  Volume (Currency)  Weighted Price  \n",
       "Date                                                         \n",
       "2013-08-30  0.0100000000       1.2500000000  125.0000000000  \n",
       "2013-08-31  0.0000000000       0.0000000000    0.0000000000  \n",
       "2013-09-01  0.0000000000       0.0000000000    0.0000000000  \n",
       "2013-09-02  0.0000000000       0.0000000000    0.0000000000  \n",
       "2013-09-03  0.0000000000       0.0000000000    0.0000000000  "
      ]
     },
     "execution_count": 11,
     "metadata": {},
     "output_type": "execute_result"
    }
   ],
   "source": [
    "df_btc.head()"
   ]
  },
  {
   "cell_type": "code",
   "execution_count": 12,
   "metadata": {},
   "outputs": [
    {
     "data": {
      "image/png": "[encoded data removed]",
      "text/plain": [
       "<matplotlib.figure.Figure at 0x112993b70>"
      ]
     },
     "metadata": {},
     "output_type": "display_data"
    }
   ],
   "source": [
    "plt.style.use('ggplot')\n",
    "fig = plt.figure(figsize=(16,8));ax = fig.add_subplot(111)\n",
    "df_btc['Weighted Price'].plot()\n",
    "plt.title('BTC price over time', color='B',size=14);plt.legend(loc='best');plt.ylabel('AUD');plt.xlabel('DATE')\n",
    "plt.show()"
   ]
  },
  {
   "cell_type": "markdown",
   "metadata": {},
   "source": [
    "Notice how the prices fall to 0 around 2014! WTF? I dont remember prices dropping to 0 at any stage. Let me check."
   ]
  },
  {
   "cell_type": "code",
   "execution_count": 13,
   "metadata": {},
   "outputs": [
    {
     "data": {
      "text/html": [
       "<div>\n",
       "<style>\n",
       "    .dataframe thead tr:only-child th {\n",
       "        text-align: right;\n",
       "    }\n",
       "\n",
       "    .dataframe thead th {\n",
       "        text-align: left;\n",
       "    }\n",
       "\n",
       "    .dataframe tbody tr th {\n",
       "        vertical-align: top;\n",
       "    }\n",
       "</style>\n",
       "<table border=\"1\" class=\"dataframe\">\n",
       "  <thead>\n",
       "    <tr style=\"text-align: right;\">\n",
       "      <th></th>\n",
       "      <th>Open</th>\n",
       "      <th>High</th>\n",
       "      <th>Low</th>\n",
       "      <th>Close</th>\n",
       "      <th>Volume (BTC)</th>\n",
       "      <th>Volume (Currency)</th>\n",
       "      <th>Weighted Price</th>\n",
       "    </tr>\n",
       "    <tr>\n",
       "      <th>Date</th>\n",
       "      <th></th>\n",
       "      <th></th>\n",
       "      <th></th>\n",
       "      <th></th>\n",
       "      <th></th>\n",
       "      <th></th>\n",
       "      <th></th>\n",
       "    </tr>\n",
       "  </thead>\n",
       "  <tbody>\n",
       "    <tr>\n",
       "      <th>2013-10-02</th>\n",
       "      <td>0.0000000000</td>\n",
       "      <td>0.0000000000</td>\n",
       "      <td>0.0000000000</td>\n",
       "      <td>0.0000000000</td>\n",
       "      <td>0.0000000000</td>\n",
       "      <td>0.0000000000</td>\n",
       "      <td>0.0000000000</td>\n",
       "    </tr>\n",
       "    <tr>\n",
       "      <th>2013-10-04</th>\n",
       "      <td>0.0000000000</td>\n",
       "      <td>0.0000000000</td>\n",
       "      <td>0.0000000000</td>\n",
       "      <td>0.0000000000</td>\n",
       "      <td>0.0000000000</td>\n",
       "      <td>0.0000000000</td>\n",
       "      <td>0.0000000000</td>\n",
       "    </tr>\n",
       "    <tr>\n",
       "      <th>2013-10-05</th>\n",
       "      <td>0.0000000000</td>\n",
       "      <td>0.0000000000</td>\n",
       "      <td>0.0000000000</td>\n",
       "      <td>0.0000000000</td>\n",
       "      <td>0.0000000000</td>\n",
       "      <td>0.0000000000</td>\n",
       "      <td>0.0000000000</td>\n",
       "    </tr>\n",
       "    <tr>\n",
       "      <th>2013-10-06</th>\n",
       "      <td>0.0000000000</td>\n",
       "      <td>0.0000000000</td>\n",
       "      <td>0.0000000000</td>\n",
       "      <td>0.0000000000</td>\n",
       "      <td>0.0000000000</td>\n",
       "      <td>0.0000000000</td>\n",
       "      <td>0.0000000000</td>\n",
       "    </tr>\n",
       "    <tr>\n",
       "      <th>2013-10-12</th>\n",
       "      <td>0.0000000000</td>\n",
       "      <td>0.0000000000</td>\n",
       "      <td>0.0000000000</td>\n",
       "      <td>0.0000000000</td>\n",
       "      <td>0.0000000000</td>\n",
       "      <td>0.0000000000</td>\n",
       "      <td>0.0000000000</td>\n",
       "    </tr>\n",
       "    <tr>\n",
       "      <th>2013-10-31</th>\n",
       "      <td>0.0000000000</td>\n",
       "      <td>0.0000000000</td>\n",
       "      <td>0.0000000000</td>\n",
       "      <td>0.0000000000</td>\n",
       "      <td>0.0000000000</td>\n",
       "      <td>0.0000000000</td>\n",
       "      <td>0.0000000000</td>\n",
       "    </tr>\n",
       "    <tr>\n",
       "      <th>2013-12-14</th>\n",
       "      <td>0.0000000000</td>\n",
       "      <td>0.0000000000</td>\n",
       "      <td>0.0000000000</td>\n",
       "      <td>0.0000000000</td>\n",
       "      <td>0.0000000000</td>\n",
       "      <td>0.0000000000</td>\n",
       "      <td>0.0000000000</td>\n",
       "    </tr>\n",
       "    <tr>\n",
       "      <th>2014-01-12</th>\n",
       "      <td>0.0000000000</td>\n",
       "      <td>0.0000000000</td>\n",
       "      <td>0.0000000000</td>\n",
       "      <td>0.0000000000</td>\n",
       "      <td>0.0000000000</td>\n",
       "      <td>0.0000000000</td>\n",
       "      <td>0.0000000000</td>\n",
       "    </tr>\n",
       "  </tbody>\n",
       "</table>\n",
       "</div>"
      ],
      "text/plain": [
       "                   Open         High          Low        Close  Volume (BTC)  \\\n",
       "Date                                                                           \n",
       "2013-10-02 0.0000000000 0.0000000000 0.0000000000 0.0000000000  0.0000000000   \n",
       "2013-10-04 0.0000000000 0.0000000000 0.0000000000 0.0000000000  0.0000000000   \n",
       "2013-10-05 0.0000000000 0.0000000000 0.0000000000 0.0000000000  0.0000000000   \n",
       "2013-10-06 0.0000000000 0.0000000000 0.0000000000 0.0000000000  0.0000000000   \n",
       "2013-10-12 0.0000000000 0.0000000000 0.0000000000 0.0000000000  0.0000000000   \n",
       "2013-10-31 0.0000000000 0.0000000000 0.0000000000 0.0000000000  0.0000000000   \n",
       "2013-12-14 0.0000000000 0.0000000000 0.0000000000 0.0000000000  0.0000000000   \n",
       "2014-01-12 0.0000000000 0.0000000000 0.0000000000 0.0000000000  0.0000000000   \n",
       "\n",
       "            Volume (Currency)  Weighted Price  \n",
       "Date                                           \n",
       "2013-10-02       0.0000000000    0.0000000000  \n",
       "2013-10-04       0.0000000000    0.0000000000  \n",
       "2013-10-05       0.0000000000    0.0000000000  \n",
       "2013-10-06       0.0000000000    0.0000000000  \n",
       "2013-10-12       0.0000000000    0.0000000000  \n",
       "2013-10-31       0.0000000000    0.0000000000  \n",
       "2013-12-14       0.0000000000    0.0000000000  \n",
       "2014-01-12       0.0000000000    0.0000000000  "
      ]
     },
     "execution_count": 13,
     "metadata": {},
     "output_type": "execute_result"
    }
   ],
   "source": [
    "df_btc[(df_btc.index>'2013-10-01') & \n",
    "       (df_btc.index<'2014-02-01') & \n",
    "       (df_btc['Weighted Price']<100)]"
   ]
  },
  {
   "cell_type": "markdown",
   "metadata": {},
   "source": [
    "Hmmax. I checked online and can confirm that price has indeed never dropped to 0. This is an image from the coindesk historical price graph. I'll go ahead and fix this data quality problem. <img src=\"imgs/coindesk_btc_price.png\",width=100%>"
   ]
  },
  {
   "cell_type": "code",
   "execution_count": 14,
   "metadata": {
    "collapsed": true
   },
   "outputs": [],
   "source": [
    "# replacing 0s with nans\n",
    "df_btc.replace(0,np.nan, inplace=True)"
   ]
  },
  {
   "cell_type": "code",
   "execution_count": 15,
   "metadata": {},
   "outputs": [
    {
     "data": {
      "image/png": "[encoded data removed]",
      "text/plain": [
       "<matplotlib.figure.Figure at 0x11560e710>"
      ]
     },
     "metadata": {},
     "output_type": "display_data"
    }
   ],
   "source": [
    "plt.style.use('ggplot')\n",
    "fig = plt.figure(figsize=(16,8));ax = fig.add_subplot(111)\n",
    "df_btc['Weighted Price'].plot()\n",
    "plt.title('BTC price over time', color='B',size=14);plt.legend(loc='best');plt.ylabel('AUD');plt.xlabel('DATE')\n",
    "plt.show()"
   ]
  },
  {
   "cell_type": "markdown",
   "metadata": {},
   "source": [
    "Nice work! Damn, this beer is good and spotify is helping heaps."
   ]
  },
  {
   "cell_type": "markdown",
   "metadata": {},
   "source": [
    "## 04 Remove extraneous columns and keep values only from 2015."
   ]
  },
  {
   "cell_type": "markdown",
   "metadata": {},
   "source": [
    "I'm taking altcoin data only from 2015. So no point in simply having BTC data from 2013."
   ]
  },
  {
   "cell_type": "code",
   "execution_count": 16,
   "metadata": {
    "collapsed": true
   },
   "outputs": [],
   "source": [
    "df_btc = df_btc[df_btc.index>='2015-01-01']"
   ]
  },
  {
   "cell_type": "code",
   "execution_count": 17,
   "metadata": {},
   "outputs": [
    {
     "data": {
      "text/plain": [
       "(1084, 7)"
      ]
     },
     "execution_count": 17,
     "metadata": {},
     "output_type": "execute_result"
    }
   ],
   "source": [
    "df_btc.shape"
   ]
  },
  {
   "cell_type": "code",
   "execution_count": 18,
   "metadata": {
    "collapsed": true
   },
   "outputs": [],
   "source": [
    "df_btc.drop(['Open','High','Low','Close','Volume (BTC)','Volume (Currency)'],axis=1,inplace=True)"
   ]
  },
  {
   "cell_type": "code",
   "execution_count": 19,
   "metadata": {},
   "outputs": [
    {
     "data": {
      "text/html": [
       "<div>\n",
       "<style>\n",
       "    .dataframe thead tr:only-child th {\n",
       "        text-align: right;\n",
       "    }\n",
       "\n",
       "    .dataframe thead th {\n",
       "        text-align: left;\n",
       "    }\n",
       "\n",
       "    .dataframe tbody tr th {\n",
       "        vertical-align: top;\n",
       "    }\n",
       "</style>\n",
       "<table border=\"1\" class=\"dataframe\">\n",
       "  <thead>\n",
       "    <tr style=\"text-align: right;\">\n",
       "      <th></th>\n",
       "      <th>Weighted Price</th>\n",
       "    </tr>\n",
       "    <tr>\n",
       "      <th>Date</th>\n",
       "      <th></th>\n",
       "    </tr>\n",
       "  </thead>\n",
       "  <tbody>\n",
       "    <tr>\n",
       "      <th>2017-12-15</th>\n",
       "      <td>24067.8803986000</td>\n",
       "    </tr>\n",
       "    <tr>\n",
       "      <th>2017-12-16</th>\n",
       "      <td>25352.5475780000</td>\n",
       "    </tr>\n",
       "    <tr>\n",
       "      <th>2017-12-17</th>\n",
       "      <td>26269.6086783000</td>\n",
       "    </tr>\n",
       "    <tr>\n",
       "      <th>2017-12-18</th>\n",
       "      <td>25754.4907974000</td>\n",
       "    </tr>\n",
       "    <tr>\n",
       "      <th>2017-12-19</th>\n",
       "      <td>25898.4937154000</td>\n",
       "    </tr>\n",
       "  </tbody>\n",
       "</table>\n",
       "</div>"
      ],
      "text/plain": [
       "             Weighted Price\n",
       "Date                       \n",
       "2017-12-15 24067.8803986000\n",
       "2017-12-16 25352.5475780000\n",
       "2017-12-17 26269.6086783000\n",
       "2017-12-18 25754.4907974000\n",
       "2017-12-19 25898.4937154000"
      ]
     },
     "execution_count": 19,
     "metadata": {},
     "output_type": "execute_result"
    }
   ],
   "source": [
    "df_btc.tail()"
   ]
  },
  {
   "cell_type": "markdown",
   "metadata": {},
   "source": [
    "## 05 Get altcoin data"
   ]
  },
  {
   "cell_type": "markdown",
   "metadata": {},
   "source": [
    "For altcoins, I'll be using [the Poloneix API](https://poloniex.com/support/api/). For this we need to download data with respect to bitcoin data as a pair. I'm going to call this a poloneix pair. "
   ]
  },
  {
   "cell_type": "code",
   "execution_count": 20,
   "metadata": {},
   "outputs": [
    {
     "data": {
      "text/plain": [
       "['ARDR',\n",
       " 'BCN',\n",
       " 'DASH',\n",
       " 'DGB',\n",
       " 'ETH',\n",
       " 'LTC',\n",
       " 'OMG',\n",
       " 'STEEM',\n",
       " 'STR',\n",
       " 'XRP',\n",
       " 'XEM']"
      ]
     },
     "execution_count": 20,
     "metadata": {},
     "output_type": "execute_result"
    }
   ],
   "source": [
    "# these are the coins that Divsi has invested in. The ones I've marked with \"--\", \n",
    "# I'm unable to find a polo exchange equivalent. Needs further investigation\n",
    "# lst_altcoins = ['ANS--','ARDR','BCC--','BCN','DASH','DGB','ETH','LTC','NXS--','OMG','PAY--','STEEM','STR','XRP','XVG--']\n",
    "lst_altcoins = ['ARDR','BCN','DASH','DGB','ETH','LTC','OMG','STEEM','STR','XRP', 'XEM']\n",
    "lst_altcoins"
   ]
  },
  {
   "cell_type": "code",
   "execution_count": 21,
   "metadata": {
    "collapsed": true
   },
   "outputs": [],
   "source": [
    "# builds the json call request for \"returnChartData\" as per the polo documentation\n",
    "# these are used in the json_url variable\n",
    "base_polo_url = 'https://poloniex.com/public?command=returnChartData&currencyPair=BTC_{}&start={}&end={}&period={}'\n",
    "start_date = datetime.strptime('2015-01-01', '%Y-%m-%d') # get data from the start of 2015\n",
    "end_date = datetime.now() # up until today\n",
    "timePeriod = 86400 # pull daily data (86,400 seconds per day)"
   ]
  },
  {
   "cell_type": "markdown",
   "metadata": {},
   "source": [
    "Similar to the bitcoin data, make the api call request only if you dont already have the data stored. this is because you hit the api limit on that day in the sub-station cafe."
   ]
  },
  {
   "cell_type": "code",
   "execution_count": 22,
   "metadata": {},
   "outputs": [
    {
     "data": {
      "text/plain": [
       "False"
      ]
     },
     "execution_count": 22,
     "metadata": {},
     "output_type": "execute_result"
    }
   ],
   "source": [
    "bool_i_prefer_to_work_offline"
   ]
  },
  {
   "cell_type": "code",
   "execution_count": null,
   "metadata": {
    "collapsed": true
   },
   "outputs": [],
   "source": []
  },
  {
   "cell_type": "code",
   "execution_count": 23,
   "metadata": {},
   "outputs": [
    {
     "name": "stdout",
     "output_type": "stream",
     "text": [
      "ARDR\n",
      "complete\n",
      "BCN\n",
      "complete\n",
      "DASH\n",
      "complete\n",
      "DGB\n",
      "complete\n",
      "ETH\n",
      "complete\n",
      "LTC\n",
      "complete\n",
      "OMG\n",
      "complete\n",
      "STEEM\n",
      "complete\n",
      "STR\n",
      "complete\n",
      "XRP\n",
      "complete\n",
      "XEM\n",
      "complete\n"
     ]
    }
   ],
   "source": [
    "if bool_i_prefer_to_work_offline==False:\n",
    "    # initialises an empty dataframe to get the data\n",
    "    df_altcoin = pd.DataFrame()\n",
    "\n",
    "    # looping over each altcoin\n",
    "    for altcoin_fetch in lst_altcoins:\n",
    "        json_url = base_polo_url.format(altcoin_fetch, start_date.timestamp(), end_date.timestamp(), timePeriod)\n",
    "        df_tmp = pd.read_json(json_url).drop(['close','high','low','open','quoteVolume','volume'], axis=1)\n",
    "        df_tmp = df_tmp.set_index('date')\n",
    "        df_tmp.rename(columns={'weightedAverage':altcoin_fetch+'_in_BTC'},inplace=True)\n",
    "        df_altcoin = pd.concat([df_altcoin,df_tmp],axis=1) \n",
    "    \n",
    "    # now push this to a csv\n",
    "    df_altcoin.to_csv('POLO_ALTCOINS_IN_BTC'+'_'+datetime.today().strftime('%Y%m%d')+'.csv')\n",
    "else:\n",
    "    %time df_altcoin = pd.read_csv('POLO_ALTCOINS_IN_BTC_'+date_of_latest_available_data+'.csv', parse_dates=['date'])\n",
    "    df_altcoin.set_index('date',inplace=True)"
   ]
  },
  {
   "cell_type": "code",
   "execution_count": 24,
   "metadata": {},
   "outputs": [
    {
     "data": {
      "text/plain": [
       "(1084, 11)"
      ]
     },
     "execution_count": 24,
     "metadata": {},
     "output_type": "execute_result"
    }
   ],
   "source": [
    "df_altcoin.shape"
   ]
  },
  {
   "cell_type": "code",
   "execution_count": 25,
   "metadata": {},
   "outputs": [
    {
     "data": {
      "text/html": [
       "<div>\n",
       "<style>\n",
       "    .dataframe thead tr:only-child th {\n",
       "        text-align: right;\n",
       "    }\n",
       "\n",
       "    .dataframe thead th {\n",
       "        text-align: left;\n",
       "    }\n",
       "\n",
       "    .dataframe tbody tr th {\n",
       "        vertical-align: top;\n",
       "    }\n",
       "</style>\n",
       "<table border=\"1\" class=\"dataframe\">\n",
       "  <thead>\n",
       "    <tr style=\"text-align: right;\">\n",
       "      <th></th>\n",
       "      <th>ARDR_in_BTC</th>\n",
       "      <th>BCN_in_BTC</th>\n",
       "      <th>DASH_in_BTC</th>\n",
       "      <th>DGB_in_BTC</th>\n",
       "      <th>ETH_in_BTC</th>\n",
       "      <th>LTC_in_BTC</th>\n",
       "      <th>OMG_in_BTC</th>\n",
       "      <th>STEEM_in_BTC</th>\n",
       "      <th>STR_in_BTC</th>\n",
       "      <th>XRP_in_BTC</th>\n",
       "      <th>XEM_in_BTC</th>\n",
       "    </tr>\n",
       "    <tr>\n",
       "      <th>date</th>\n",
       "      <th></th>\n",
       "      <th></th>\n",
       "      <th></th>\n",
       "      <th></th>\n",
       "      <th></th>\n",
       "      <th></th>\n",
       "      <th></th>\n",
       "      <th></th>\n",
       "      <th></th>\n",
       "      <th></th>\n",
       "      <th></th>\n",
       "    </tr>\n",
       "  </thead>\n",
       "  <tbody>\n",
       "    <tr>\n",
       "      <th>2015-01-01</th>\n",
       "      <td>nan</td>\n",
       "      <td>0.0000000200</td>\n",
       "      <td>0.0062464500</td>\n",
       "      <td>nan</td>\n",
       "      <td>nan</td>\n",
       "      <td>0.0085585900</td>\n",
       "      <td>nan</td>\n",
       "      <td>nan</td>\n",
       "      <td>0.0000172800</td>\n",
       "      <td>0.0000757900</td>\n",
       "      <td>nan</td>\n",
       "    </tr>\n",
       "    <tr>\n",
       "      <th>2015-01-02</th>\n",
       "      <td>nan</td>\n",
       "      <td>0.0000000200</td>\n",
       "      <td>0.0062520100</td>\n",
       "      <td>nan</td>\n",
       "      <td>nan</td>\n",
       "      <td>0.0085039400</td>\n",
       "      <td>nan</td>\n",
       "      <td>nan</td>\n",
       "      <td>0.0000175300</td>\n",
       "      <td>0.0000776200</td>\n",
       "      <td>nan</td>\n",
       "    </tr>\n",
       "    <tr>\n",
       "      <th>2015-01-03</th>\n",
       "      <td>nan</td>\n",
       "      <td>0.0000000200</td>\n",
       "      <td>0.0060303900</td>\n",
       "      <td>nan</td>\n",
       "      <td>nan</td>\n",
       "      <td>0.0079256100</td>\n",
       "      <td>nan</td>\n",
       "      <td>nan</td>\n",
       "      <td>0.0000169700</td>\n",
       "      <td>0.0000739500</td>\n",
       "      <td>nan</td>\n",
       "    </tr>\n",
       "    <tr>\n",
       "      <th>2015-01-04</th>\n",
       "      <td>nan</td>\n",
       "      <td>0.0000000200</td>\n",
       "      <td>0.0061633100</td>\n",
       "      <td>nan</td>\n",
       "      <td>nan</td>\n",
       "      <td>0.0075151800</td>\n",
       "      <td>nan</td>\n",
       "      <td>nan</td>\n",
       "      <td>0.0000163400</td>\n",
       "      <td>0.0000686600</td>\n",
       "      <td>nan</td>\n",
       "    </tr>\n",
       "    <tr>\n",
       "      <th>2015-01-05</th>\n",
       "      <td>nan</td>\n",
       "      <td>0.0000000200</td>\n",
       "      <td>0.0060876800</td>\n",
       "      <td>nan</td>\n",
       "      <td>nan</td>\n",
       "      <td>0.0076602200</td>\n",
       "      <td>nan</td>\n",
       "      <td>nan</td>\n",
       "      <td>0.0000179600</td>\n",
       "      <td>0.0000739500</td>\n",
       "      <td>nan</td>\n",
       "    </tr>\n",
       "  </tbody>\n",
       "</table>\n",
       "</div>"
      ],
      "text/plain": [
       "            ARDR_in_BTC   BCN_in_BTC  DASH_in_BTC  DGB_in_BTC  ETH_in_BTC  \\\n",
       "date                                                                        \n",
       "2015-01-01          nan 0.0000000200 0.0062464500         nan         nan   \n",
       "2015-01-02          nan 0.0000000200 0.0062520100         nan         nan   \n",
       "2015-01-03          nan 0.0000000200 0.0060303900         nan         nan   \n",
       "2015-01-04          nan 0.0000000200 0.0061633100         nan         nan   \n",
       "2015-01-05          nan 0.0000000200 0.0060876800         nan         nan   \n",
       "\n",
       "             LTC_in_BTC  OMG_in_BTC  STEEM_in_BTC   STR_in_BTC   XRP_in_BTC  \\\n",
       "date                                                                          \n",
       "2015-01-01 0.0085585900         nan           nan 0.0000172800 0.0000757900   \n",
       "2015-01-02 0.0085039400         nan           nan 0.0000175300 0.0000776200   \n",
       "2015-01-03 0.0079256100         nan           nan 0.0000169700 0.0000739500   \n",
       "2015-01-04 0.0075151800         nan           nan 0.0000163400 0.0000686600   \n",
       "2015-01-05 0.0076602200         nan           nan 0.0000179600 0.0000739500   \n",
       "\n",
       "            XEM_in_BTC  \n",
       "date                    \n",
       "2015-01-01         nan  \n",
       "2015-01-02         nan  \n",
       "2015-01-03         nan  \n",
       "2015-01-04         nan  \n",
       "2015-01-05         nan  "
      ]
     },
     "execution_count": 25,
     "metadata": {},
     "output_type": "execute_result"
    }
   ],
   "source": [
    "df_altcoin.head()"
   ]
  },
  {
   "cell_type": "code",
   "execution_count": 26,
   "metadata": {
    "collapsed": true
   },
   "outputs": [],
   "source": [
    "# # lets back this shit up in case I want to analyse this without the interwebs!\n",
    "# df_altcoin.to_csv('POLO_ALTCOINS_IN_BTC_20170923.csv')"
   ]
  },
  {
   "cell_type": "code",
   "execution_count": 27,
   "metadata": {},
   "outputs": [
    {
     "data": {
      "text/plain": [
       "(1084, 12)"
      ]
     },
     "execution_count": 27,
     "metadata": {},
     "output_type": "execute_result"
    }
   ],
   "source": [
    "df_combined= pd.merge(left=df_btc,right=df_altcoin,\n",
    "                      how='left',\n",
    "                     left_index=True,right_index=True)\n",
    "df_combined.shape"
   ]
  },
  {
   "cell_type": "code",
   "execution_count": 28,
   "metadata": {},
   "outputs": [
    {
     "data": {
      "text/plain": [
       "(1084, 23)"
      ]
     },
     "execution_count": 28,
     "metadata": {},
     "output_type": "execute_result"
    }
   ],
   "source": [
    "for altcoin_fetch in lst_altcoins:\n",
    "    df_combined[altcoin_fetch+'_in_AUD']=df_combined['Weighted Price']*df_combined[altcoin_fetch+'_in_BTC']\n",
    "df_combined.shape"
   ]
  },
  {
   "cell_type": "code",
   "execution_count": 29,
   "metadata": {},
   "outputs": [
    {
     "data": {
      "text/html": [
       "<div>\n",
       "<style>\n",
       "    .dataframe thead tr:only-child th {\n",
       "        text-align: right;\n",
       "    }\n",
       "\n",
       "    .dataframe thead th {\n",
       "        text-align: left;\n",
       "    }\n",
       "\n",
       "    .dataframe tbody tr th {\n",
       "        vertical-align: top;\n",
       "    }\n",
       "</style>\n",
       "<table border=\"1\" class=\"dataframe\">\n",
       "  <thead>\n",
       "    <tr style=\"text-align: right;\">\n",
       "      <th></th>\n",
       "      <th>Weighted Price</th>\n",
       "      <th>ARDR_in_BTC</th>\n",
       "      <th>BCN_in_BTC</th>\n",
       "      <th>DASH_in_BTC</th>\n",
       "      <th>DGB_in_BTC</th>\n",
       "      <th>ETH_in_BTC</th>\n",
       "      <th>LTC_in_BTC</th>\n",
       "      <th>OMG_in_BTC</th>\n",
       "      <th>STEEM_in_BTC</th>\n",
       "      <th>STR_in_BTC</th>\n",
       "      <th>...</th>\n",
       "      <th>BCN_in_AUD</th>\n",
       "      <th>DASH_in_AUD</th>\n",
       "      <th>DGB_in_AUD</th>\n",
       "      <th>ETH_in_AUD</th>\n",
       "      <th>LTC_in_AUD</th>\n",
       "      <th>OMG_in_AUD</th>\n",
       "      <th>STEEM_in_AUD</th>\n",
       "      <th>STR_in_AUD</th>\n",
       "      <th>XRP_in_AUD</th>\n",
       "      <th>XEM_in_AUD</th>\n",
       "    </tr>\n",
       "    <tr>\n",
       "      <th>Date</th>\n",
       "      <th></th>\n",
       "      <th></th>\n",
       "      <th></th>\n",
       "      <th></th>\n",
       "      <th></th>\n",
       "      <th></th>\n",
       "      <th></th>\n",
       "      <th></th>\n",
       "      <th></th>\n",
       "      <th></th>\n",
       "      <th></th>\n",
       "      <th></th>\n",
       "      <th></th>\n",
       "      <th></th>\n",
       "      <th></th>\n",
       "      <th></th>\n",
       "      <th></th>\n",
       "      <th></th>\n",
       "      <th></th>\n",
       "      <th></th>\n",
       "      <th></th>\n",
       "    </tr>\n",
       "  </thead>\n",
       "  <tbody>\n",
       "    <tr>\n",
       "      <th>2017-12-17</th>\n",
       "      <td>26269.6086783000</td>\n",
       "      <td>0.0000498500</td>\n",
       "      <td>0.0000002400</td>\n",
       "      <td>0.0561395300</td>\n",
       "      <td>0.0000019600</td>\n",
       "      <td>0.0370359100</td>\n",
       "      <td>0.0164435500</td>\n",
       "      <td>0.0008075600</td>\n",
       "      <td>0.0001160100</td>\n",
       "      <td>0.0000137300</td>\n",
       "      <td>...</td>\n",
       "      <td>0.0063047061</td>\n",
       "      <td>1474.7634844837</td>\n",
       "      <td>0.0514884330</td>\n",
       "      <td>972.9188627447</td>\n",
       "      <td>431.9656237821</td>\n",
       "      <td>21.2142851842</td>\n",
       "      <td>3.0475373028</td>\n",
       "      <td>0.3606817272</td>\n",
       "      <td>0.9906269433</td>\n",
       "      <td>0.9323084120</td>\n",
       "    </tr>\n",
       "    <tr>\n",
       "      <th>2017-12-18</th>\n",
       "      <td>25754.4907974000</td>\n",
       "      <td>0.0000568700</td>\n",
       "      <td>0.0000002600</td>\n",
       "      <td>0.0585305400</td>\n",
       "      <td>0.0000019100</td>\n",
       "      <td>0.0397941500</td>\n",
       "      <td>0.0176304300</td>\n",
       "      <td>0.0009126100</td>\n",
       "      <td>0.0001313300</td>\n",
       "      <td>0.0000142300</td>\n",
       "      <td>...</td>\n",
       "      <td>0.0066961676</td>\n",
       "      <td>1507.4242537969</td>\n",
       "      <td>0.0491910774</td>\n",
       "      <td>1024.8780699654</td>\n",
       "      <td>454.0627471892</td>\n",
       "      <td>23.5038058466</td>\n",
       "      <td>3.3823372764</td>\n",
       "      <td>0.3664864040</td>\n",
       "      <td>1.0077732249</td>\n",
       "      <td>1.0412540629</td>\n",
       "    </tr>\n",
       "    <tr>\n",
       "      <th>2017-12-19</th>\n",
       "      <td>25898.4937154000</td>\n",
       "      <td>0.0000621200</td>\n",
       "      <td>0.0000002700</td>\n",
       "      <td>0.0637466400</td>\n",
       "      <td>0.0000021700</td>\n",
       "      <td>0.0434673500</td>\n",
       "      <td>0.0190989700</td>\n",
       "      <td>0.0010708800</td>\n",
       "      <td>0.0001529500</td>\n",
       "      <td>0.0000153900</td>\n",
       "      <td>...</td>\n",
       "      <td>0.0069925933</td>\n",
       "      <td>1650.9419554179</td>\n",
       "      <td>0.0561997314</td>\n",
       "      <td>1125.7388908001</td>\n",
       "      <td>494.6345545156</td>\n",
       "      <td>27.7341789499</td>\n",
       "      <td>3.9611746138</td>\n",
       "      <td>0.3985778183</td>\n",
       "      <td>1.1012039528</td>\n",
       "      <td>1.3260028782</td>\n",
       "    </tr>\n",
       "  </tbody>\n",
       "</table>\n",
       "<p>3 rows × 23 columns</p>\n",
       "</div>"
      ],
      "text/plain": [
       "             Weighted Price  ARDR_in_BTC   BCN_in_BTC  DASH_in_BTC  \\\n",
       "Date                                                                 \n",
       "2017-12-17 26269.6086783000 0.0000498500 0.0000002400 0.0561395300   \n",
       "2017-12-18 25754.4907974000 0.0000568700 0.0000002600 0.0585305400   \n",
       "2017-12-19 25898.4937154000 0.0000621200 0.0000002700 0.0637466400   \n",
       "\n",
       "             DGB_in_BTC   ETH_in_BTC   LTC_in_BTC   OMG_in_BTC  STEEM_in_BTC  \\\n",
       "Date                                                                           \n",
       "2017-12-17 0.0000019600 0.0370359100 0.0164435500 0.0008075600  0.0001160100   \n",
       "2017-12-18 0.0000019100 0.0397941500 0.0176304300 0.0009126100  0.0001313300   \n",
       "2017-12-19 0.0000021700 0.0434673500 0.0190989700 0.0010708800  0.0001529500   \n",
       "\n",
       "             STR_in_BTC     ...        BCN_in_AUD     DASH_in_AUD  \\\n",
       "Date                        ...                                     \n",
       "2017-12-17 0.0000137300     ...      0.0063047061 1474.7634844837   \n",
       "2017-12-18 0.0000142300     ...      0.0066961676 1507.4242537969   \n",
       "2017-12-19 0.0000153900     ...      0.0069925933 1650.9419554179   \n",
       "\n",
       "             DGB_in_AUD      ETH_in_AUD     LTC_in_AUD    OMG_in_AUD  \\\n",
       "Date                                                                   \n",
       "2017-12-17 0.0514884330  972.9188627447 431.9656237821 21.2142851842   \n",
       "2017-12-18 0.0491910774 1024.8780699654 454.0627471892 23.5038058466   \n",
       "2017-12-19 0.0561997314 1125.7388908001 494.6345545156 27.7341789499   \n",
       "\n",
       "            STEEM_in_AUD   STR_in_AUD   XRP_in_AUD   XEM_in_AUD  \n",
       "Date                                                             \n",
       "2017-12-17  3.0475373028 0.3606817272 0.9906269433 0.9323084120  \n",
       "2017-12-18  3.3823372764 0.3664864040 1.0077732249 1.0412540629  \n",
       "2017-12-19  3.9611746138 0.3985778183 1.1012039528 1.3260028782  \n",
       "\n",
       "[3 rows x 23 columns]"
      ]
     },
     "execution_count": 29,
     "metadata": {},
     "output_type": "execute_result"
    }
   ],
   "source": [
    "df_combined.tail(3)"
   ]
  },
  {
   "cell_type": "markdown",
   "metadata": {},
   "source": [
    "Spot check: <br>\n",
    "The data says ETHEREUM price was A\\$308.3833640411 on 14/9/2017. Coinbase price is \\$335 AUD as at 10:00 AM. <br>\n",
    "The data says DASH price was A\\$244.067 on 6/8/2017. Worldcoinindex price for that day is \\$244.32<br>\n",
    "So the data is directional and definitely usable."
   ]
  },
  {
   "cell_type": "code",
   "execution_count": 30,
   "metadata": {},
   "outputs": [
    {
     "data": {
      "text/plain": [
       "(Timestamp('2017-12-19 00:00:00'), Timestamp('2015-01-01 00:00:00'))"
      ]
     },
     "execution_count": 30,
     "metadata": {},
     "output_type": "execute_result"
    }
   ],
   "source": [
    "df_combined.index.max(), df_combined.index.min()"
   ]
  },
  {
   "cell_type": "code",
   "execution_count": 31,
   "metadata": {
    "collapsed": true
   },
   "outputs": [],
   "source": [
    "# same type of 0 replacement as you did for BTC\n",
    "cols_to_replace = ['ARDR_in_AUD',\n",
    "       'BCN_in_AUD', 'DASH_in_AUD', 'DGB_in_AUD', 'ETH_in_AUD',\n",
    "       'LTC_in_AUD', 'OMG_in_AUD', 'STEEM_in_AUD', 'STR_in_AUD',\n",
    "       'XRP_in_AUD']\n",
    "for cols in cols_to_replace:\n",
    "    df_combined[cols].replace(0,np.nan, inplace=True)"
   ]
  },
  {
   "cell_type": "code",
   "execution_count": 32,
   "metadata": {},
   "outputs": [
    {
     "data": {
      "image/png": "[encoded data removed]",
      "text/plain": [
       "<matplotlib.figure.Figure at 0x1153654e0>"
      ]
     },
     "metadata": {},
     "output_type": "display_data"
    }
   ],
   "source": [
    "plt.style.use('ggplot')\n",
    "fig = plt.figure(figsize=(16,8));ax = fig.add_subplot(111)\n",
    "df_combined['LTC_in_AUD'].plot(color='r')\n",
    "df_combined['ETH_in_AUD'].plot(color='b')\n",
    "df_combined['DASH_in_AUD'].plot(color='g')\n",
    "plt.title('LTC/ETH/DASH price over time', color='B',size=14);plt.legend(loc='best');plt.ylabel('AUD');plt.xlabel('Date')\n",
    "plt.show()"
   ]
  },
  {
   "cell_type": "markdown",
   "metadata": {},
   "source": [
    "## Normalise coins because you'd be comparing apples to oranges"
   ]
  },
  {
   "cell_type": "code",
   "execution_count": 33,
   "metadata": {
    "collapsed": true
   },
   "outputs": [],
   "source": [
    "df_combined.rename(columns={'Weighted Price':'BTC_in_AUD'},inplace=True)"
   ]
  },
  {
   "cell_type": "code",
   "execution_count": 34,
   "metadata": {
    "collapsed": true
   },
   "outputs": [],
   "source": [
    "# fix combined such that BTC and altcoins are all on the same time scale\n",
    "df_combined = df_combined[df_combined.index>='2015-01-01']"
   ]
  },
  {
   "cell_type": "code",
   "execution_count": 35,
   "metadata": {
    "collapsed": true
   },
   "outputs": [],
   "source": [
    "cols_to_normalise = [col for col in df_combined.columns if 'in_AUD' in col]\n",
    "for cols in cols_to_normalise:\n",
    "    df_combined['norm_'+cols]=df_combined[cols].apply(lambda x:(x-df_combined[cols].min())/(df_combined[cols].max()-df_combined[cols].min()))"
   ]
  },
  {
   "cell_type": "code",
   "execution_count": 36,
   "metadata": {},
   "outputs": [
    {
     "data": {
      "text/plain": [
       "['norm_BTC_in_AUD',\n",
       " 'norm_ARDR_in_AUD',\n",
       " 'norm_BCN_in_AUD',\n",
       " 'norm_DASH_in_AUD',\n",
       " 'norm_DGB_in_AUD',\n",
       " 'norm_ETH_in_AUD',\n",
       " 'norm_LTC_in_AUD',\n",
       " 'norm_OMG_in_AUD',\n",
       " 'norm_STEEM_in_AUD',\n",
       " 'norm_STR_in_AUD',\n",
       " 'norm_XRP_in_AUD',\n",
       " 'norm_XEM_in_AUD']"
      ]
     },
     "execution_count": 36,
     "metadata": {},
     "output_type": "execute_result"
    }
   ],
   "source": [
    "['norm_'+col for col in cols_to_normalise]"
   ]
  },
  {
   "cell_type": "code",
   "execution_count": 37,
   "metadata": {},
   "outputs": [
    {
     "data": {
      "image/png": "[encoded data removed]",
      "text/plain": [
       "<matplotlib.figure.Figure at 0x115b11da0>"
      ]
     },
     "metadata": {},
     "output_type": "display_data"
    }
   ],
   "source": [
    "plt.style.use('ggplot')\n",
    "fig = plt.figure(figsize=(16,8));ax = fig.add_subplot(111)\n",
    "iter_colour = itertools.cycle(COLOR_PALETTE)\n",
    "# for cols in ['norm_'+col for col in cols_to_normalise]:\n",
    "# for cols in ['norm_BTC_in_AUD','norm_ETH_in_AUD','norm_LTC_in_AUD','norm_STEEM_in_AUD']:\n",
    "for cols in ['BTC_in_AUD','ETH_in_AUD','STEEM_in_AUD']:\n",
    "    df_combined[cols].plot(color=next(iter_colour))\n",
    "plt.title('Normalised coin price over time', color='B',size=14);\n",
    "plt.legend(loc='best');plt.ylabel('normalised scale');plt.xlabel('Date');plt.show()"
   ]
  },
  {
   "cell_type": "code",
   "execution_count": 39,
   "metadata": {
    "collapsed": true
   },
   "outputs": [],
   "source": [
    "df_combined.to_pickle('btc_altcoin_cleansed_'+date_of_latest_available_data+'.pickle')"
   ]
  },
  {
   "cell_type": "code",
   "execution_count": null,
   "metadata": {
    "collapsed": true
   },
   "outputs": [],
   "source": []
  }
 ],
 "metadata": {
  "kernelspec": {
   "display_name": "Python [conda env:cryptoMe]",
   "language": "python",
   "name": "conda-env-cryptoMe-py"
  },
  "language_info": {
   "codemirror_mode": {
    "name": "ipython",
    "version": 3
   },
   "file_extension": ".py",
   "mimetype": "text/x-python",
   "name": "python",
   "nbconvert_exporter": "python",
   "pygments_lexer": "ipython3",
   "version": "3.6.2"
  }
 },
 "nbformat": 4,
 "nbformat_minor": 2
}
